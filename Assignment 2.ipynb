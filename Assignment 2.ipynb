{
 "cells": [
  {
   "cell_type": "markdown",
   "metadata": {},
   "source": [
    "# Assignment 3"
   ]
  },
  {
   "cell_type": "markdown",
   "metadata": {},
   "source": [
    "### Write a function to count the number 4 in a given list."
   ]
  },
  {
   "cell_type": "code",
   "execution_count": 17,
   "metadata": {},
   "outputs": [
    {
     "name": "stdout",
     "output_type": "stream",
     "text": [
      "Length of The lsit = 3\n",
      "Enter Numbers separated by press Enter : 4\n",
      "Enter Numbers separated by press Enter : 5\n",
      "Enter Numbers separated by press Enter : 4\n",
      "--------------------------------------------\n",
      "Number (4) repeated :  2 times\n"
     ]
    }
   ],
   "source": [
    "#User enter the list if we need fixed list delete for loop and insert mylist = [1, 2, 3, ..., n]\n",
    "\n",
    "mylist = []\n",
    "\n",
    "Length = int(input('Length of The lsit = '))\n",
    "\n",
    "for i in range(0,Length):\n",
    "    \n",
    "    temp = int(input('Enter Numbers separated by press Enter : '))\n",
    "    \n",
    "    mylist.append(temp)\n",
    "    \n",
    "\n",
    "def count_number4(numbers):\n",
    "    \n",
    "    count = 0\n",
    "    \n",
    "    for num in numbers:\n",
    "        \n",
    "        if num == 4:\n",
    "            \n",
    "            count += 1\n",
    "            \n",
    "    return count\n",
    "\n",
    "print('--------------------------------------------')\n",
    "\n",
    "print('Number (4) repeated : ',count_number4(mylist),'times') #Call Function"
   ]
  },
  {
   "cell_type": "markdown",
   "metadata": {},
   "source": [
    "#### write a  function to check whether a number is divisible by another number."
   ]
  },
  {
   "cell_type": "code",
   "execution_count": 16,
   "metadata": {},
   "outputs": [
    {
     "name": "stdout",
     "output_type": "stream",
     "text": [
      "Enter First Number Then Second Number sperated by press Enter to check if it two numbers are divisible or not\n",
      "First Number is : 3\n",
      "Second Number is : 3\n",
      "True\n",
      "x / y =  1.0\n"
     ]
    }
   ],
   "source": [
    "print('Enter First Number Then Second Number sperated by press Enter to check if it two numbers are divisible or not')\n",
    "\n",
    "x = int(input('First Number is : '))\n",
    "\n",
    "y = int(input('Second Number is : '))\n",
    "\n",
    "\n",
    "def divisible(num1, num2):\n",
    "    \n",
    "    if num1 % num2 == 0:\n",
    "        print('True')\n",
    "        print('x / y = ',x/y)\n",
    "    \n",
    "    else:\n",
    "        \n",
    "        print('False')\n",
    "        \n",
    "        \n",
    "\n",
    "divisible(x,y) #Call Function"
   ]
  },
  {
   "cell_type": "markdown",
   "metadata": {},
   "source": [
    "#### write a function to find the maximum and minimum numbers from a sequence of numbers."
   ]
  },
  {
   "cell_type": "code",
   "execution_count": 22,
   "metadata": {},
   "outputs": [
    {
     "name": "stdout",
     "output_type": "stream",
     "text": [
      "max, min =  (500, 1)\n"
     ]
    }
   ],
   "source": [
    "mylist = [*range(1,501)]\n",
    "\n",
    "\n",
    "def max_min(data_list):\n",
    "    \n",
    "    maximum = data_list[0]\n",
    "\n",
    "    minimum = data_list[0]\n",
    "\n",
    "    \n",
    "    for num in data_list:\n",
    "        \n",
    "        if num > maximum:\n",
    "            \n",
    "            maximum = num\n",
    "            \n",
    "        elif num < minimum:\n",
    "            \n",
    "            minimum = num\n",
    "            \n",
    "    return maximum, minimum\n",
    "            \n",
    "print('max, min = ',max_min(mylist)) #Call Function"
   ]
  },
  {
   "cell_type": "markdown",
   "metadata": {},
   "source": [
    "### Write a Python function that takes two lists and returns True if they have at least one common member."
   ]
  },
  {
   "cell_type": "code",
   "execution_count": 35,
   "metadata": {},
   "outputs": [
    {
     "name": "stdout",
     "output_type": "stream",
     "text": [
      "Length of list = 1\n",
      "Enter the first list separated by press Enter : 2\n",
      "Enter the second list separated by press Enter : 2\n"
     ]
    },
    {
     "data": {
      "text/plain": [
       "True"
      ]
     },
     "execution_count": 35,
     "metadata": {},
     "output_type": "execute_result"
    }
   ],
   "source": [
    "num = int(input('Length of list = '))\n",
    "\n",
    "mylist1 = []\n",
    "\n",
    "mylist2 = []\n",
    "\n",
    "mylist3 = []\n",
    "\n",
    "def common_num(list1, list2):\n",
    "    \n",
    "                                        #......To insert the list......\n",
    "    \n",
    "    for i in range(0,num):\n",
    "        \n",
    "        temp = int(input('Enter the first list separated by press Enter : '))\n",
    "        \n",
    "        mylist1.append(temp)\n",
    "        \n",
    "        \n",
    "    for i in range(0,num):\n",
    "        \n",
    "        temp = int(input('Enter the second list separated by press Enter : '))\n",
    "        \n",
    "        mylist2.append(temp)\n",
    "        \n",
    "        \n",
    "                    # For loop to check if any elements in List1 and list2 are identical \n",
    "    \n",
    "    for x in list1:\n",
    "            \n",
    "        for y in list2:\n",
    "            \n",
    "            if x == y:\n",
    "                \n",
    "                result = True\n",
    "                \n",
    "    return result\n",
    "\n",
    "common_num(mylist1,mylist2) # To Call the Function"
   ]
  },
  {
   "cell_type": "markdown",
   "metadata": {},
   "source": [
    "## Write a Python function to calculate the factorial of a number (a non-negative integer). The function accepts the number from the user"
   ]
  },
  {
   "cell_type": "code",
   "execution_count": 4,
   "metadata": {},
   "outputs": [
    {
     "name": "stdout",
     "output_type": "stream",
     "text": [
      "enter any number to calculate the factorial 5\n",
      "factorial  5  =  120\n"
     ]
    }
   ],
   "source": [
    "x = int(input('enter any number to calculate the factorial '))\n",
    "\n",
    "def fact(x):\n",
    "    \n",
    "    if x == 1:\n",
    "        \n",
    "        return x\n",
    "    \n",
    "    else:\n",
    "        \n",
    "        return x * fact(x-1)\n",
    "\n",
    "print('factorial ',x,' = ',fact(x)) #Call Function"
   ]
  },
  {
   "cell_type": "markdown",
   "metadata": {},
   "source": [
    "### Write a Python function to check whether a number is in a given range.\n",
    "\n",
    "### The range is from 3 to 11\n"
   ]
  },
  {
   "cell_type": "code",
   "execution_count": 37,
   "metadata": {},
   "outputs": [
    {
     "name": "stdout",
     "output_type": "stream",
     "text": [
      "Enter the beginning of the RANGE : 3\n",
      "Enter the end of the RANGE : 11\n",
      "Enter the number to check in the Range or not : 4\n",
      "( 4 )  In Range\n"
     ]
    }
   ],
   "source": [
    "low = int(input('Enter the beginning of the RANGE : '))\n",
    "\n",
    "high = int(input('Enter the end of the RANGE : '))\n",
    "\n",
    "x = int(input('Enter the number to check in the Range or not : '))\n",
    "\n",
    "def in_range(low, high):\n",
    "    \n",
    "    if x > low and x < high:\n",
    "        print('(',x,')',' In Range')\n",
    "        \n",
    "        \n",
    "    else:\n",
    "        print(x,\" Isnt'n in Range\" )\n",
    "        \n",
    "\n",
    "in_range(low, high)\n",
    "\n",
    "# We can change the RANGE to be fixed by change any low = 3 and any high = 11"
   ]
  },
  {
   "cell_type": "markdown",
   "metadata": {},
   "source": [
    "### Write a  program to create the multiplication table (from 1 to 10) of a number."
   ]
  },
  {
   "cell_type": "code",
   "execution_count": 2,
   "metadata": {},
   "outputs": [
    {
     "name": "stdout",
     "output_type": "stream",
     "text": [
      "Enter any number to get multiplication it from 1 to 10 : 1\n",
      "1 x 1  =  1\n",
      "1 x 2  =  2\n",
      "1 x 3  =  3\n",
      "1 x 4  =  4\n",
      "1 x 5  =  5\n",
      "1 x 6  =  6\n",
      "1 x 7  =  7\n",
      "1 x 8  =  8\n",
      "1 x 9  =  9\n",
      "1 x 10  =  10\n"
     ]
    }
   ],
   "source": [
    "x = int(input('Enter any number to get multiplication table (from 1 to 10) of a number : '))\n",
    "\n",
    "for i in range(1,11):\n",
    "    \n",
    "    print(x,'x',i,' = ',x*i)"
   ]
  },
  {
   "cell_type": "markdown",
   "metadata": {},
   "source": [
    "#### LESSER OF TWO EVENS: Write a function that returns the lesser of two given numbers *if* both numbers are even, but returns the greater if one or both numbers are odd\n",
    "    lesser_of_two_evens(2,4) --> 2\n",
    "    lesser_of_two_evens(2,5) --> 5"
   ]
  },
  {
   "cell_type": "code",
   "execution_count": 12,
   "metadata": {},
   "outputs": [
    {
     "name": "stdout",
     "output_type": "stream",
     "text": [
      "Enter the \"X\" first number : 5\n",
      "enter the \"Y\" second number : 7\n",
      "---------------------------------------\n",
      "X =  5 ,     Y =  7\n",
      "Both number are odd and the Greater Odd =  7\n"
     ]
    }
   ],
   "source": [
    "x = int(input('Enter the \"X\" first number : '))\n",
    "\n",
    "y = int(input('enter the \"Y\" second number : '))\n",
    "\n",
    "print('---------------------------------------')\n",
    "\n",
    "def lesser(even, odd):\n",
    "    \n",
    "    if x % 2 == 0 and y % 2 == 0 and x > y:\n",
    "        print('X = ',x,',','   ','Y = ',y)\n",
    "        print('Lesser = ',y)\n",
    "        \n",
    "    elif x % 2 == 0 and y % 2 == 0 and x < y:\n",
    "        print('X = ',x,',','   ','Y = ',y)\n",
    "        print('Lesser = ',x)\n",
    "        \n",
    "    elif x % 2 != 0 and y % 2 != 0 and x > y:\n",
    "        print('X = ',x,',','   ','Y = ',y)\n",
    "        print('Both number are odd and the Greater Odd = ',x)\n",
    "        \n",
    "    elif x % 2 != 0 and y % 2 != 0 and x < y:\n",
    "        print('X = ',x,',','   ','Y = ',y)\n",
    "        print('Both number are odd and the Greater Odd = ',y)\n",
    "        \n",
    "    elif x % 2 == 0 and y % 2 != 0:\n",
    "        print('X = ',x,',','   ','Y = ',y)\n",
    "        print('One of numbers are odd = ',y)\n",
    "        \n",
    "lesser(x,y)\n",
    "        "
   ]
  }
 ],
 "metadata": {
  "kernelspec": {
   "display_name": "Python 3 (ipykernel)",
   "language": "python",
   "name": "python3"
  },
  "language_info": {
   "codemirror_mode": {
    "name": "ipython",
    "version": 3
   },
   "file_extension": ".py",
   "mimetype": "text/x-python",
   "name": "python",
   "nbconvert_exporter": "python",
   "pygments_lexer": "ipython3",
   "version": "3.9.12"
  }
 },
 "nbformat": 4,
 "nbformat_minor": 2
}
