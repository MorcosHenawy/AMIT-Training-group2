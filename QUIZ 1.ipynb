{
 "cells": [
  {
   "cell_type": "markdown",
   "metadata": {
    "collapsed": true
   },
   "source": [
    "# QUIZ\n",
    "Let's test your knowledge!"
   ]
  },
  {
   "cell_type": "markdown",
   "metadata": {},
   "source": [
    "_____\n",
    "**Use <code>for</code>, .split(), and <code>if</code> to create a Statement that will print out words that start with 's':**"
   ]
  },
  {
   "cell_type": "code",
   "execution_count": 87,
   "metadata": {},
   "outputs": [],
   "source": [
    "st = 'Print only the words that start with s in this sentence'"
   ]
  },
  {
   "cell_type": "code",
   "execution_count": 88,
   "metadata": {},
   "outputs": [
    {
     "name": "stdout",
     "output_type": "stream",
     "text": [
      "start\n",
      "s\n",
      "sentence\n"
     ]
    }
   ],
   "source": [
    "for word in st.split():\n",
    "    \n",
    "#i used for loop select the iteration (word) and by split it by space so any word after space it make it index\n",
    "    \n",
    "    if word[0] == 's':\n",
    "        \n",
    "#Then if the all words of index zero equal s then print this word\n",
    "        \n",
    "        print(word)"
   ]
  },
  {
   "cell_type": "markdown",
   "metadata": {},
   "source": [
    "______\n",
    "**Use range() to print all the even numbers from 0 to 10.**"
   ]
  },
  {
   "cell_type": "code",
   "execution_count": 69,
   "metadata": {},
   "outputs": [
    {
     "name": "stdout",
     "output_type": "stream",
     "text": [
      "This number is odd =  1\n",
      "This number is even =  2\n",
      "This number is odd =  3\n",
      "This number is even =  4\n",
      "This number is odd =  5\n",
      "This number is even =  6\n",
      "This number is odd =  7\n",
      "This number is even =  8\n",
      "This number is odd =  9\n",
      "This number is even =  10\n"
     ]
    }
   ],
   "source": [
    "mylist = [*range(1,11)]\n",
    "\n",
    "#i maked list with range 1 to 10 then insert it in for loop\n",
    "\n",
    "for i in mylist:\n",
    "    \n",
    "# 'i' is the iteration and it also the index in list\n",
    "    \n",
    "    if i % 2 == 0:\n",
    "        \n",
    "        print('This number is even = ',i)\n",
    "        \n",
    "    else:\n",
    "        \n",
    "        print('This number is odd = ',i)\n",
    "\n",
    "\n",
    "\n",
    "\n",
    "\n",
    "#2nd Method\n",
    "\n",
    "# for i in range(1,11,1):\n",
    "    \n",
    "#     if i % 2 == 0:\n",
    "        \n",
    "#         print('This number is even = ',i)\n",
    "        \n",
    "#     else:\n",
    "        \n",
    "#         print('This number is odd = ',i)"
   ]
  },
  {
   "cell_type": "markdown",
   "metadata": {},
   "source": [
    "___\n",
    "**Use a List Comprehension to create a list of all numbers between 1 and 50 that are divisible by 3.**"
   ]
  },
  {
   "cell_type": "code",
   "execution_count": 78,
   "metadata": {},
   "outputs": [
    {
     "name": "stdout",
     "output_type": "stream",
     "text": [
      "This number divisible by 3 :  3\n",
      "This number divisible by 3 :  6\n",
      "This number divisible by 3 :  9\n",
      "This number divisible by 3 :  12\n",
      "This number divisible by 3 :  15\n",
      "This number divisible by 3 :  18\n",
      "This number divisible by 3 :  21\n",
      "This number divisible by 3 :  24\n",
      "This number divisible by 3 :  27\n",
      "This number divisible by 3 :  30\n",
      "This number divisible by 3 :  33\n",
      "This number divisible by 3 :  36\n",
      "This number divisible by 3 :  39\n",
      "This number divisible by 3 :  42\n",
      "This number divisible by 3 :  45\n",
      "This number divisible by 3 :  48\n"
     ]
    }
   ],
   "source": [
    "mylist = [*range(1,51)]\n",
    "\n",
    "for i in mylist:\n",
    "    \n",
    "    if i % 3 == 0:\n",
    "        \n",
    "        print('This number divisible by 3 : ',i)"
   ]
  },
  {
   "cell_type": "markdown",
   "metadata": {},
   "source": [
    "_____\n",
    "**Go through the string below and if the length of a word is even print \"even!\"**"
   ]
  },
  {
   "cell_type": "code",
   "execution_count": null,
   "metadata": {},
   "outputs": [],
   "source": [
    "st = 'Print every word in this sentence that has an even number of letters'"
   ]
  },
  {
   "cell_type": "code",
   "execution_count": 71,
   "metadata": {},
   "outputs": [
    {
     "name": "stdout",
     "output_type": "stream",
     "text": [
      "length of this word is even :  only\n",
      "length of this word is even :  that\n",
      "length of this word is even :  with\n",
      "length of this word is even :  in\n",
      "length of this word is even :  this\n",
      "length of this word is even :  sentence\n"
     ]
    }
   ],
   "source": [
    "for word in st.split():\n",
    "    \n",
    "    if len(word) % 2 == 0:\n",
    "        \n",
    "        print('length of this word is even : ',word)"
   ]
  },
  {
   "cell_type": "markdown",
   "metadata": {},
   "source": [
    "____\n",
    "**Write a program that prints the integers from 1 to 100. But for multiples of three print \"Fizz\" instead of the number, and for the multiples of five print \"Buzz\". For numbers which are multiples of both three and five print \"FizzBuzz\".**"
   ]
  },
  {
   "cell_type": "code",
   "execution_count": 86,
   "metadata": {},
   "outputs": [
    {
     "name": "stdout",
     "output_type": "stream",
     "text": [
      "1\n",
      "2\n",
      "Fizz =  3\n",
      "4\n",
      "Buzz =  5\n",
      "Fizz =  6\n",
      "7\n",
      "8\n",
      "Fizz =  9\n",
      "Buzz =  10\n",
      "11\n",
      "Fizz =  12\n",
      "13\n",
      "14\n",
      "FizzBuzz =  15\n",
      "16\n",
      "17\n",
      "Fizz =  18\n",
      "19\n",
      "Buzz =  20\n",
      "Fizz =  21\n",
      "22\n",
      "23\n",
      "Fizz =  24\n",
      "Buzz =  25\n",
      "26\n",
      "Fizz =  27\n",
      "28\n",
      "29\n",
      "FizzBuzz =  30\n",
      "31\n",
      "32\n",
      "Fizz =  33\n",
      "34\n",
      "Buzz =  35\n",
      "Fizz =  36\n",
      "37\n",
      "38\n",
      "Fizz =  39\n",
      "Buzz =  40\n",
      "41\n",
      "Fizz =  42\n",
      "43\n",
      "44\n",
      "FizzBuzz =  45\n",
      "46\n",
      "47\n",
      "Fizz =  48\n",
      "49\n",
      "Buzz =  50\n",
      "Fizz =  51\n",
      "52\n",
      "53\n",
      "Fizz =  54\n",
      "Buzz =  55\n",
      "56\n",
      "Fizz =  57\n",
      "58\n",
      "59\n",
      "FizzBuzz =  60\n",
      "61\n",
      "62\n",
      "Fizz =  63\n",
      "64\n",
      "Buzz =  65\n",
      "Fizz =  66\n",
      "67\n",
      "68\n",
      "Fizz =  69\n",
      "Buzz =  70\n",
      "71\n",
      "Fizz =  72\n",
      "73\n",
      "74\n",
      "FizzBuzz =  75\n",
      "76\n",
      "77\n",
      "Fizz =  78\n",
      "79\n",
      "Buzz =  80\n",
      "Fizz =  81\n",
      "82\n",
      "83\n",
      "Fizz =  84\n",
      "Buzz =  85\n",
      "86\n",
      "Fizz =  87\n",
      "88\n",
      "89\n",
      "FizzBuzz =  90\n",
      "91\n",
      "92\n",
      "Fizz =  93\n",
      "94\n",
      "Buzz =  95\n",
      "Fizz =  96\n",
      "97\n",
      "98\n",
      "Fizz =  99\n",
      "Buzz =  100\n"
     ]
    }
   ],
   "source": [
    "mylist1 = [*range(1,101)]\n",
    "\n",
    "for i in mylist1:\n",
    "    \n",
    "    if i % 3 == 0 and i % 5 ==0:\n",
    "        print('FizzBuzz = ',i)\n",
    "    \n",
    "    elif i % 3 == 0:\n",
    "        \n",
    "        print('Fizz = ',i)\n",
    "        \n",
    "    elif i % 5 == 0:\n",
    "        \n",
    "        print('Buzz = ',i)\n",
    "        \n",
    "    else:\n",
    "        print(i)\n",
    "        \n"
   ]
  },
  {
   "cell_type": "markdown",
   "metadata": {},
   "source": [
    "____\n",
    "**Use List Comprehension to create a list of the first letters of every word in the string below:**"
   ]
  },
  {
   "cell_type": "code",
   "execution_count": 79,
   "metadata": {},
   "outputs": [],
   "source": [
    "ste = 'Create a list of the first letters of every word in this string'"
   ]
  },
  {
   "cell_type": "code",
   "execution_count": 80,
   "metadata": {},
   "outputs": [
    {
     "name": "stdout",
     "output_type": "stream",
     "text": [
      "['C', 'a', 'l', 'o', 't', 'f', 'l', 'o', 'e', 'w', 'i', 't', 's']\n"
     ]
    }
   ],
   "source": [
    "mylist1 = []\n",
    "\n",
    "#maked list empty to insert in it the 1st of the sentence\n",
    "\n",
    "for word in ste.split():\n",
    "    \n",
    "    mylist1.append(word[0])\n",
    "    \n",
    "print(mylist1)\n",
    "\n"
   ]
  },
  {
   "cell_type": "markdown",
   "metadata": {},
   "source": [
    "### Great Job!"
   ]
  }
 ],
 "metadata": {
  "kernelspec": {
   "display_name": "Python 3 (ipykernel)",
   "language": "python",
   "name": "python3"
  },
  "language_info": {
   "codemirror_mode": {
    "name": "ipython",
    "version": 3
   },
   "file_extension": ".py",
   "mimetype": "text/x-python",
   "name": "python",
   "nbconvert_exporter": "python",
   "pygments_lexer": "ipython3",
   "version": "3.9.12"
  }
 },
 "nbformat": 4,
 "nbformat_minor": 1
}
